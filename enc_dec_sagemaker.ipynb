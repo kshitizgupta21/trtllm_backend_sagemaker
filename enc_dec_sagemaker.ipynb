{
 "cells": [
  {
   "cell_type": "markdown",
   "id": "94333f2f-fb7e-4275-a97f-7ac65207317b",
   "metadata": {},
   "source": [
    "# Deploying Enc-Dec Model with Triton TensorRT-LLM on Amazon SageMaker"
   ]
  },
  {
   "cell_type": "markdown",
   "id": "e4eadc18-6726-40a9-9375-16b9ac46a0a4",
   "metadata": {},
   "source": [
    "This notebook shows how to optimize Encoder-Decoder Models Like T5/BART using NVIDIA TensorRT-LLM and then deploy them using Triton Inference Server on Amazon SageMaker. TensorRT-LLM library accelerates inference performance on the latest LLMs on NVIDIA GPUs.The Triton Inference Server backend for TensorRT-LLM uses the TensorRT-LLM C++ runtime for highly performant inference execution. It includes techniques like in-flight batching and paged KV caching that provide high throughput at low latency. TensorRT-LLM backend has been bundled with Triton Inference Server and is available as a pre-built container (`xx.yy-trtllm-python-py3`) on [NGC](https://catalog.ngc.nvidia.com/orgs/nvidia/containers/tritonserver/tags).\n",
    "\n",
    "This notebook was tested with the `conda_python3` kernel on an Amazon SageMaker notebook instance of type `g5.xlarge`."
   ]
  },
  {
   "cell_type": "markdown",
   "id": "bd25e297-9a33-42bd-a3a6-bab8bc05732e",
   "metadata": {},
   "source": [
    "## Set up the environment\n",
    "Installs the dependencies required to package the model and run inferences using Triton server.\n",
    "\n",
    "Also define the IAM role that will give SageMaker access to the model artifacts and the NVIDIA Triton TRT-LLM ECR image."
   ]
  },
  {
   "cell_type": "code",
   "execution_count": 1,
   "id": "751ff6d3-5d83-4427-9194-13efcc3753d5",
   "metadata": {
    "tags": []
   },
   "outputs": [],
   "source": [
    "!pip install -qU awscli boto3 sagemaker --quiet\n",
    "!pip install tritonclient[http] --quiet"
   ]
  },
  {
   "cell_type": "code",
   "execution_count": 2,
   "id": "88d11bba-59eb-4663-bc55-bbf75882eb47",
   "metadata": {
    "tags": []
   },
   "outputs": [
    {
     "name": "stderr",
     "output_type": "stream",
     "text": [
      "/home/ec2-user/anaconda3/envs/python3/lib/python3.10/site-packages/sagemaker/base_serializers.py:28: UserWarning: A NumPy version >=1.23.5 and <2.3.0 is required for this version of SciPy (detected version 1.22.4)\n",
      "  import scipy.sparse\n"
     ]
    },
    {
     "name": "stdout",
     "output_type": "stream",
     "text": [
      "sagemaker.config INFO - Not applying SDK defaults from location: /etc/xdg/sagemaker/config.yaml\n",
      "sagemaker.config INFO - Not applying SDK defaults from location: /home/ec2-user/.config/sagemaker/config.yaml\n"
     ]
    }
   ],
   "source": [
    "import boto3, json, sagemaker, time\n",
    "from sagemaker import get_execution_role\n",
    "\n",
    "sess = boto3.Session()\n",
    "sm = sess.client(\"sagemaker\")\n",
    "sagemaker_session = sagemaker.Session(boto_session=sess)\n",
    "role = get_execution_role()\n",
    "client = boto3.client(\"sagemaker-runtime\")"
   ]
  },
  {
   "cell_type": "markdown",
   "id": "c10311a1-40cc-45bf-956a-a4b6494c0cf5",
   "metadata": {},
   "source": [
    "Next we install `git-lfs` to download Huggingface model"
   ]
  },
  {
   "cell_type": "code",
   "execution_count": null,
   "id": "32e69b79-4505-46dd-9c79-f56f5cf5861f",
   "metadata": {
    "scrolled": true,
    "tags": []
   },
   "outputs": [],
   "source": [
    "!sudo amazon-linux-extras install epel -y\n",
    "!curl -s https://packagecloud.io/install/repositories/github/git-lfs/script.rpm.sh | sudo bash\n",
    "!sudo yum install git-lfs -y"
   ]
  },
  {
   "cell_type": "code",
   "execution_count": 3,
   "id": "a196275b-f5ee-4c43-82b6-e4e77e06246c",
   "metadata": {
    "tags": []
   },
   "outputs": [],
   "source": [
    "MODEL_NAME=\"t5-small\"\n",
    "MODEL_TYPE=\"t5\"\n",
    "\n",
    "# For BART\n",
    "# MODEL_NAME=\"bart-base\"\n",
    "# MODEL_TYPE=\"bart\""
   ]
  },
  {
   "cell_type": "code",
   "execution_count": null,
   "id": "7d315289-c782-401b-af7f-4087d3cf2d4a",
   "metadata": {
    "tags": []
   },
   "outputs": [],
   "source": [
    "!git lfs install"
   ]
  },
  {
   "cell_type": "markdown",
   "id": "d5d225c7-02ab-40c7-b2f6-1b9a8064d1de",
   "metadata": {},
   "source": [
    "We download the model from HuggingFace. Or if you have your own trained custom HuggingFace model then you can place it in `workspace/hf_models`"
   ]
  },
  {
   "cell_type": "code",
   "execution_count": null,
   "id": "792608e6-fbc7-4228-bb95-c42bf6bcccf0",
   "metadata": {
    "tags": []
   },
   "outputs": [],
   "source": [
    "!git clone https://huggingface.co/google-t5/t5-small workspace/hf_models/\n",
    "# !git clone git clone https://huggingface.co/facebook/bart-base workspace/hf_models/"
   ]
  },
  {
   "cell_type": "markdown",
   "id": "4a017b1e-b9eb-4036-ba84-2bf4aa1d5ae6",
   "metadata": {},
   "source": [
    "In the [generate_trtllm_triton_model_repo.sh](workspace/generate_trtllm_triton_model_repo.sh) script we build the TRT-LLM engine for encoder-decoder T5/BART model and prepare the Triton Model Repository. In this example we build TP Size=1 single_GPU engine with beam search (max beam width = 2), input len = 1024, output len = 200. To change this edit [generate_trtllm_triton_model_repo.sh](workspace/generate_trtllm_triton_model_repo.sh) script. "
   ]
  },
  {
   "cell_type": "code",
   "execution_count": 4,
   "id": "7ad6f269-d3b7-45f0-bd0e-2f121bba6b9b",
   "metadata": {
    "scrolled": true,
    "tags": []
   },
   "outputs": [
    {
     "name": "stdout",
     "output_type": "stream",
     "text": [
      "Unable to find image 'nvcr.io/nvidia/tritonserver:24.08-trtllm-python-py3' locally\n",
      "24.08-trtllm-python-py3: Pulling from nvidia/tritonserver\n",
      "\n",
      "\u001b[1B021b0277: Pulling fs layer \n",
      "\u001b[1B3065b696: Pulling fs layer \n",
      "\u001b[1Bb700ef54: Pulling fs layer \n",
      "\u001b[1B10b333db: Pulling fs layer \n",
      "\u001b[1B04d6bd35: Pulling fs layer \n",
      "\u001b[1Bff708333: Pulling fs layer \n",
      "\u001b[1B80a307de: Pulling fs layer \n",
      "\u001b[1B2122a834: Pulling fs layer \n",
      "\u001b[1Be3cb2229: Pulling fs layer \n",
      "\u001b[1Bb163ddcd: Pulling fs layer \n",
      "\u001b[1Ba30b7f59: Pulling fs layer \n",
      "\u001b[1B0fc745fc: Pulling fs layer \n",
      "\u001b[1Bb0370e40: Pulling fs layer \n",
      "\u001b[1Bd6da8470: Pulling fs layer \n",
      "\u001b[4B0fc745fc: Waiting fs layer \n",
      "\u001b[1B9fa4de74: Pulling fs layer \n",
      "\u001b[1Bcd062d6b: Pulling fs layer \n",
      "\u001b[6Bb0370e40: Waiting fs layer \n",
      "\u001b[11B3cb2229: Waiting fs layer \n",
      "\u001b[1B8774589e: Pulling fs layer \n",
      "\u001b[1B66cc0be0: Pulling fs layer \n",
      "\u001b[13B163ddcd: Waiting fs layer \n",
      "\u001b[5B271d5ba0: Waiting fs layer \n",
      "\u001b[5B8774589e: Waiting fs layer \n",
      "\u001b[1B3514378a: Pulling fs layer \n",
      "\u001b[1Ba6eea597: Pulling fs layer \n",
      "\u001b[1B240b277a: Pulling fs layer \n",
      "\u001b[14B4d82165: Waiting fs layer \n",
      "\u001b[25B4d6bd35: Waiting fs layer \n",
      "\u001b[17B6da8470: Waiting fs layer \n",
      "\u001b[7B3514378a: Waiting fs layer \n",
      "\u001b[1Ba5289b83: Pulling fs layer \n",
      "\u001b[12B794da31: Waiting fs layer \n",
      "\u001b[1B7a383664: Pulling fs layer \n",
      "\u001b[13Bda7973b: Waiting fs layer \n",
      "\u001b[1Bb0f3c23d: Pulling fs layer \n",
      "\u001b[1B4c778def: Pulling fs layer \n",
      "\u001b[1B37bb9526: Pulling fs layer \n",
      "\u001b[1B90965edc: Pull complete .32MB/27.32MBB\u001b[39A\u001b[2K\u001b[39A\u001b[2K\u001b[36A\u001b[2K\u001b[35A\u001b[2K\u001b[36A\u001b[2K\u001b[39A\u001b[2K\u001b[36A\u001b[2K\u001b[39A\u001b[2K\u001b[38A\u001b[2K\u001b[34A\u001b[2K\u001b[36A\u001b[2K\u001b[34A\u001b[2K\u001b[39A\u001b[2K\u001b[34A\u001b[2K\u001b[39A\u001b[2K\u001b[34A\u001b[2K\u001b[39A\u001b[2K\u001b[34A\u001b[2K\u001b[31A\u001b[2K\u001b[34A\u001b[2K\u001b[39A\u001b[2K\u001b[34A\u001b[2K\u001b[29A\u001b[2K\u001b[34A\u001b[2K\u001b[29A\u001b[2K\u001b[28A\u001b[2K\u001b[29A\u001b[2K\u001b[28A\u001b[2K\u001b[38A\u001b[2K\u001b[28A\u001b[2K\u001b[38A\u001b[2K\u001b[28A\u001b[2K\u001b[28A\u001b[2K\u001b[34A\u001b[2K\u001b[26A\u001b[2K\u001b[38A\u001b[2K\u001b[26A\u001b[2K\u001b[25A\u001b[2K\u001b[38A\u001b[2K\u001b[25A\u001b[2K\u001b[26A\u001b[2K\u001b[25A\u001b[2K\u001b[26A\u001b[2K\u001b[34A\u001b[2K\u001b[26A\u001b[2K\u001b[34A\u001b[2K\u001b[26A\u001b[2K\u001b[34A\u001b[2K\u001b[26A\u001b[2K\u001b[34A\u001b[2K\u001b[26A\u001b[2K\u001b[34A\u001b[2K\u001b[26A\u001b[2K\u001b[34A\u001b[2K\u001b[26A\u001b[2K\u001b[34A\u001b[2K\u001b[26A\u001b[2K\u001b[34A\u001b[2K\u001b[26A\u001b[2K\u001b[34A\u001b[2K\u001b[26A\u001b[2K\u001b[34A\u001b[2K\u001b[26A\u001b[2K\u001b[34A\u001b[2K\u001b[38A\u001b[2K\u001b[34A\u001b[2K\u001b[38A\u001b[2K\u001b[34A\u001b[2K\u001b[38A\u001b[2K\u001b[26A\u001b[2K\u001b[38A\u001b[2K\u001b[34A\u001b[2K\u001b[25A\u001b[2K\u001b[34A\u001b[2K\u001b[25A\u001b[2K\u001b[34A\u001b[2K\u001b[38A\u001b[2K\u001b[34A\u001b[2K\u001b[23A\u001b[2K\u001b[34A\u001b[2K\u001b[38A\u001b[2K\u001b[34A\u001b[2K\u001b[22A\u001b[2K\u001b[34A\u001b[2K\u001b[38A\u001b[2K\u001b[34A\u001b[2K\u001b[37A\u001b[2K\u001b[34A\u001b[2K\u001b[36A\u001b[2K\u001b[36A\u001b[2K\u001b[34A\u001b[2K\u001b[34A\u001b[2K\u001b[21A\u001b[2K\u001b[34A\u001b[2K\u001b[34A\u001b[2K\u001b[36A\u001b[2K\u001b[34A\u001b[2K\u001b[20A\u001b[2K\u001b[34A\u001b[2K\u001b[36A\u001b[2K\u001b[34A\u001b[2K\u001b[36A\u001b[2K\u001b[34A\u001b[2K\u001b[36A\u001b[2K\u001b[34A\u001b[2K\u001b[36A\u001b[2K\u001b[19A\u001b[2K\u001b[24A\u001b[2K\u001b[34A\u001b[2K\u001b[24A\u001b[2K\u001b[18A\u001b[2K\u001b[24A\u001b[2K\u001b[18A\u001b[2K\u001b[24A\u001b[2K\u001b[18A\u001b[2K\u001b[36A\u001b[2K\u001b[18A\u001b[2K\u001b[34A\u001b[2K\u001b[18A\u001b[2K\u001b[24A\u001b[2K\u001b[18A\u001b[2K\u001b[24A\u001b[2K\u001b[36A\u001b[2K\u001b[24A\u001b[2K\u001b[18A\u001b[2K\u001b[24A\u001b[2K\u001b[18A\u001b[2K\u001b[24A\u001b[2K\u001b[18A\u001b[2K\u001b[24A\u001b[2K\u001b[18A\u001b[2K\u001b[24A\u001b[2K\u001b[18A\u001b[2K\u001b[24A\u001b[2K\u001b[18A\u001b[2K\u001b[24A\u001b[2K\u001b[36A\u001b[2K\u001b[36A\u001b[2K\u001b[18A\u001b[2K\u001b[24A\u001b[2K\u001b[18A\u001b[2K\u001b[24A\u001b[2K\u001b[18A\u001b[2K\u001b[24A\u001b[2K\u001b[18A\u001b[2K\u001b[24A\u001b[2K\u001b[18A\u001b[2K\u001b[24A\u001b[2K\u001b[18A\u001b[2K\u001b[24A\u001b[2K\u001b[18A\u001b[2K\u001b[24A\u001b[2K\u001b[18A\u001b[2K\u001b[18A\u001b[2K\u001b[34A\u001b[2K\u001b[18A\u001b[2K\u001b[34A\u001b[2K\u001b[18A\u001b[2K\u001b[34A\u001b[2K\u001b[18A\u001b[2K\u001b[16A\u001b[2K\u001b[18A\u001b[2K\u001b[16A\u001b[2K\u001b[18A\u001b[2K\u001b[16A\u001b[2K\u001b[18A\u001b[2K\u001b[16A\u001b[2K\u001b[18A\u001b[2K\u001b[16A\u001b[2K\u001b[18A\u001b[2K\u001b[16A\u001b[2K\u001b[18A\u001b[2K\u001b[16A\u001b[2K\u001b[18A\u001b[2K\u001b[16A\u001b[2K\u001b[18A\u001b[2K\u001b[16A\u001b[2K\u001b[18A\u001b[2K\u001b[16A\u001b[2K\u001b[18A\u001b[2K\u001b[16A\u001b[2K\u001b[18A\u001b[2K\u001b[16A\u001b[2K\u001b[18A\u001b[2K\u001b[16A\u001b[2K\u001b[18A\u001b[2K\u001b[16A\u001b[2K\u001b[18A\u001b[2K\u001b[16A\u001b[2K\u001b[18A\u001b[2K\u001b[16A\u001b[2K\u001b[18A\u001b[2K\u001b[16A\u001b[2K\u001b[18A\u001b[2K\u001b[16A\u001b[2K\u001b[18A\u001b[2K\u001b[34A\u001b[2K\u001b[18A\u001b[2K\u001b[34A\u001b[2K\u001b[18A\u001b[2K\u001b[16A\u001b[2K\u001b[18A\u001b[2K\u001b[34A\u001b[2K\u001b[18A\u001b[2K\u001b[34A\u001b[2K\u001b[18A\u001b[2K\u001b[34A\u001b[2K\u001b[18A\u001b[2K\u001b[16A\u001b[2K\u001b[16A\u001b[2K\u001b[16A\u001b[2K\u001b[16A\u001b[2K\u001b[15A\u001b[2K\u001b[16A\u001b[2K\u001b[15A\u001b[2K\u001b[16A\u001b[2K\u001b[15A\u001b[2K\u001b[16A\u001b[2K\u001b[15A\u001b[2K\u001b[16A\u001b[2K\u001b[15A\u001b[2K\u001b[16A\u001b[2K\u001b[15A\u001b[2K\u001b[16A\u001b[2K\u001b[15A\u001b[2K\u001b[16A\u001b[2K\u001b[15A\u001b[2K\u001b[16A\u001b[2K\u001b[15A\u001b[2K\u001b[16A\u001b[2K\u001b[15A\u001b[2K\u001b[16A\u001b[2K\u001b[34A\u001b[2K\u001b[34A\u001b[2K\u001b[34A\u001b[2K\u001b[34A\u001b[2K\u001b[34A\u001b[2K\u001b[34A\u001b[2K\u001b[34A\u001b[2K\u001b[34A\u001b[2K\u001b[34A\u001b[2K\u001b[34A\u001b[2K\u001b[34A\u001b[2K\u001b[16A\u001b[2K\u001b[16A\u001b[2K\u001b[34A\u001b[2K\u001b[16A\u001b[2K\u001b[34A\u001b[2K\u001b[16A\u001b[2K\u001b[34A\u001b[2K\u001b[16A\u001b[2K\u001b[34A\u001b[2K\u001b[16A\u001b[2K\u001b[34A\u001b[2K\u001b[16A\u001b[2K\u001b[34A\u001b[2K\u001b[16A\u001b[2K\u001b[34A\u001b[2K\u001b[16A\u001b[2K\u001b[34A\u001b[2K\u001b[16A\u001b[2K\u001b[34A\u001b[2K\u001b[16A\u001b[2K\u001b[34A\u001b[2K\u001b[16A\u001b[2K\u001b[34A\u001b[2K\u001b[16A\u001b[2K\u001b[34A\u001b[2K\u001b[16A\u001b[2K\u001b[34A\u001b[2K\u001b[16A\u001b[2K\u001b[34A\u001b[2K\u001b[16A\u001b[2K\u001b[34A\u001b[2K\u001b[15A\u001b[2K\u001b[34A\u001b[2K\u001b[15A\u001b[2K\u001b[16A\u001b[2K\u001b[15A\u001b[2K\u001b[34A\u001b[2K\u001b[15A\u001b[2K\u001b[14A\u001b[2K\u001b[15A\u001b[2K\u001b[34A\u001b[2K\u001b[15A\u001b[2K\u001b[34A\u001b[2K\u001b[15A\u001b[2K\u001b[34A\u001b[2K\u001b[15A\u001b[2K\u001b[34A\u001b[2K\u001b[15A\u001b[2K\u001b[34A\u001b[2K\u001b[12A\u001b[2K\u001b[34A\u001b[2K\u001b[15A\u001b[2K\u001b[34A\u001b[2K\u001b[15A\u001b[2K\u001b[34A\u001b[2K\u001b[15A\u001b[2K\u001b[2K\u001b[15A\u001b[2K\u001b[34A\u001b[2K\u001b[15A\u001b[2K\u001b[11A\u001b[2K\u001b[15A\u001b[2K\u001b[34A\u001b[2K\u001b[12A\u001b[2K\u001b[10A\u001b[2K\u001b[12A\u001b[2K\u001b[10A\u001b[2K\u001b[12A\u001b[2K\u001b[34A\u001b[2K\u001b[10A\u001b[2K\u001b[34A\u001b[2K\u001b[12A\u001b[2K\u001b[34A\u001b[2K\u001b[12A\u001b[2K\u001b[9A\u001b[2K\u001b[15A\u001b[2K\u001b[34A\u001b[2K\u001b[15A\u001b[2K\u001b[8A\u001b[2K\u001b[34A\u001b[2K\u001b[12A\u001b[2K\u001b[34A\u001b[2K\u001b[7A\u001b[2K\u001b[15A\u001b[2K\u001b[34A\u001b[2K\u001b[15A\u001b[2K\u001b[12A\u001b[2K\u001b[34A\u001b[2K\u001b[6A\u001b[2K\u001b[34A\u001b[2K\u001b[6A\u001b[2K\u001b[12A\u001b[2K\u001b[34A\u001b[2K\u001b[12A\u001b[2K\u001b[34A\u001b[2K\u001b[6A\u001b[2K\u001b[12A\u001b[2K\u001b[15A\u001b[2K\u001b[34A\u001b[2K\u001b[12A\u001b[2K\u001b[6A\u001b[2K\u001b[34A\u001b[2K\u001b[6A\u001b[2K\u001b[12A\u001b[2K\u001b[6A\u001b[2K\u001b[12A\u001b[2K\u001b[15A\u001b[2K\u001b[34A\u001b[2K\u001b[12A\u001b[2K\u001b[15A\u001b[2K\u001b[12A\u001b[2K\u001b[15A\u001b[2K\u001b[12A\u001b[2K\u001b[15A\u001b[2K\u001b[12A\u001b[2K\u001b[6A\u001b[2K\u001b[15A\u001b[2K\u001b[6A\u001b[2K\u001b[15A\u001b[2K\u001b[6A\u001b[2K\u001b[12A\u001b[2K\u001b[34A\u001b[2K\u001b[12A\u001b[2K\u001b[15A\u001b[2K\u001b[12A\u001b[2K\u001b[34A\u001b[2K\u001b[6A\u001b[2K\u001b[15A\u001b[2K\u001b[12A\u001b[2K\u001b[34A\u001b[2K\u001b[6A\u001b[2K\u001b[34A\u001b[2K\u001b[15A\u001b[2K\u001b[34A\u001b[2K\u001b[6A\u001b[2K\u001b[15A\u001b[2K\u001b[34A\u001b[2K\u001b[15A\u001b[2K\u001b[15A\u001b[2K\u001b[34A\u001b[2K\u001b[15A\u001b[2K\u001b[34A\u001b[2K\u001b[15A\u001b[2K\u001b[6A\u001b[2K\u001b[34A\u001b[2K\u001b[12A\u001b[2K\u001b[6A\u001b[2K\u001b[15A\u001b[2K\u001b[6A\u001b[2K\u001b[15A\u001b[2K\u001b[12A\u001b[2K\u001b[15A\u001b[2K\u001b[12A\u001b[2K\u001b[15A\u001b[2K\u001b[12A\u001b[2K\u001b[6A\u001b[2K\u001b[15A\u001b[2K\u001b[6A\u001b[2K\u001b[15A\u001b[2K\u001b[12A\u001b[2K\u001b[12A\u001b[2K\u001b[34A\u001b[2K\u001b[12A\u001b[2K\u001b[34A\u001b[2K\u001b[12A\u001b[2K\u001b[34A\u001b[2K\u001b[12A\u001b[2K\u001b[6A\u001b[2K\u001b[12A\u001b[2K\u001b[6A\u001b[2K\u001b[15A\u001b[2K\u001b[6A\u001b[2K\u001b[34A\u001b[2K\u001b[12A\u001b[2K\u001b[15A\u001b[2K\u001b[12A\u001b[2K\u001b[15A\u001b[2K\u001b[34A\u001b[2K\u001b[12A\u001b[2K\u001b[15A\u001b[2K\u001b[12A\u001b[2K\u001b[15A\u001b[2K\u001b[6A\u001b[2K\u001b[12A\u001b[2K\u001b[6A\u001b[2K\u001b[6A\u001b[2K\u001b[12A\u001b[2K\u001b[15A\u001b[2K\u001b[12A\u001b[2K\u001b[6A\u001b[2K\u001b[34A\u001b[2K\u001b[12A\u001b[2K\u001b[12A\u001b[2K\u001b[15A\u001b[2K\u001b[12A\u001b[2K\u001b[6A\u001b[2K\u001b[12A\u001b[2K\u001b[6A\u001b[2K\u001b[12A\u001b[2K\u001b[15A\u001b[2K\u001b[12A\u001b[2K\u001b[12A\u001b[2K\u001b[15A\u001b[2K\u001b[12A\u001b[2K\u001b[6A\u001b[2K\u001b[15A\u001b[2K\u001b[6A\u001b[2K\u001b[15A\u001b[2K\u001b[6A\u001b[2K\u001b[34A\u001b[2K\u001b[15A\u001b[2K\u001b[34A\u001b[2K\u001b[12A\u001b[2K\u001b[34A\u001b[2K\u001b[15A\u001b[2K\u001b[15A\u001b[2K\u001b[6A\u001b[2K\u001b[15A\u001b[2K\u001b[34A\u001b[2K\u001b[6A\u001b[2K\u001b[15A\u001b[2K\u001b[6A\u001b[2K\u001b[34A\u001b[2K\u001b[15A\u001b[2K\u001b[6A\u001b[2K\u001b[12A\u001b[2K\u001b[34A\u001b[2K\u001b[12A\u001b[2K\u001b[15A\u001b[2K\u001b[12A\u001b[2K\u001b[34A\u001b[2K\u001b[12A\u001b[2K\u001b[34A\u001b[2K\u001b[12A\u001b[2K\u001b[5A\u001b[2K\u001b[12A\u001b[2K\u001b[15A\u001b[2K\u001b[12A\u001b[2K\u001b[4A\u001b[2K\u001b[12A\u001b[2K\u001b[15A\u001b[2K\u001b[34A\u001b[2K\u001b[15A\u001b[2K\u001b[3A\u001b[2K\u001b[34A\u001b[2K\u001b[15A\u001b[2K\u001b[3A\u001b[2K\u001b[3A\u001b[2K\u001b[34A\u001b[2K\u001b[15A\u001b[2K\u001b[2A\u001b[2K\u001b[15A\u001b[2K\u001b[15A\u001b[2K\u001b[34A\u001b[2K\u001b[1A\u001b[2K\u001b[15A\u001b[2K\u001b[1A\u001b[2K\u001b[12A\u001b[2K\u001b[1A\u001b[2K\u001b[12A\u001b[2K\u001b[1A\u001b[2K\u001b[15A\u001b[2K\u001b[34A\u001b[2K\u001b[1A\u001b[2K\u001b[34A\u001b[2K\u001b[1A\u001b[2K\u001b[15A\u001b[2K\u001b[12A\u001b[2K\u001b[1A\u001b[2K\u001b[12A\u001b[2K\u001b[1A\u001b[2K\u001b[12A\u001b[2K\u001b[1A\u001b[2K\u001b[15A\u001b[2K\u001b[34A\u001b[2K\u001b[15A\u001b[2K\u001b[34A\u001b[2K\u001b[15A\u001b[2K\u001b[34A\u001b[2K\u001b[12A\u001b[2K\u001b[34A\u001b[2K\u001b[15A\u001b[2K\u001b[34A\u001b[2K\u001b[12A\u001b[2K\u001b[15A\u001b[2K\u001b[12A\u001b[2K\u001b[34A\u001b[2K\u001b[15A\u001b[2K\u001b[12A\u001b[2K\u001b[15A\u001b[2K\u001b[12A\u001b[2K\u001b[15A\u001b[2K\u001b[12A\u001b[2K\u001b[15A\u001b[2K\u001b[12A\u001b[2K\u001b[34A\u001b[2K\u001b[15A\u001b[2K\u001b[34A\u001b[2K\u001b[12A\u001b[2K\u001b[34A\u001b[2K\u001b[15A\u001b[2K\u001b[12A\u001b[2K\u001b[34A\u001b[2K\u001b[12A\u001b[2K\u001b[15A\u001b[2K\u001b[12A\u001b[2K\u001b[15A\u001b[2K\u001b[34A\u001b[2K\u001b[15A\u001b[2K\u001b[15A\u001b[2K\u001b[34A\u001b[2K\u001b[12A\u001b[2K\u001b[34A\u001b[2K\u001b[12A\u001b[2K\u001b[34A\u001b[2K\u001b[12A\u001b[2K\u001b[34A\u001b[2K\u001b[12A\u001b[2K\u001b[34A\u001b[2K\u001b[12A\u001b[2K\u001b[12A\u001b[2K\u001b[12A\u001b[2K\u001b[34A\u001b[2K\u001b[12A\u001b[2K\u001b[34A\u001b[2K\u001b[12A\u001b[2K\u001b[34A\u001b[2K\u001b[12A\u001b[2K\u001b[34A\u001b[2K\u001b[34A\u001b[2K\u001b[12A\u001b[2K\u001b[34A\u001b[2K\u001b[12A\u001b[2K\u001b[34A\u001b[2K\u001b[12A\u001b[2K\u001b[34A\u001b[2K\u001b[34A\u001b[2K\u001b[34A\u001b[2K\u001b[34A\u001b[2K\u001b[12A\u001b[2K\u001b[34A\u001b[2K\u001b[12A\u001b[2K\u001b[34A\u001b[2K\u001b[34A\u001b[2K\u001b[12A\u001b[2K\u001b[34A\u001b[2K\u001b[12A\u001b[2K\u001b[34A\u001b[2K\u001b[12A\u001b[2K\u001b[34A\u001b[2K\u001b[12A\u001b[2K\u001b[34A\u001b[2K\u001b[12A\u001b[2K\u001b[34A\u001b[2K\u001b[12A\u001b[2K\u001b[34A\u001b[2K\u001b[12A\u001b[2K\u001b[34A\u001b[2K\u001b[12A\u001b[2K\u001b[12A\u001b[2K\u001b[34A\u001b[2K\u001b[34A\u001b[2K\u001b[34A\u001b[2K\u001b[34A\u001b[2K\u001b[34A\u001b[2K\u001b[34A\u001b[2K\u001b[34A\u001b[2K\u001b[34A\u001b[2K\u001b[34A\u001b[2K\u001b[34A\u001b[2K\u001b[34A\u001b[2K\u001b[34A\u001b[2K\u001b[34A\u001b[2K\u001b[34A\u001b[2K\u001b[34A\u001b[2K\u001b[34A\u001b[2K\u001b[34A\u001b[2K\u001b[34A\u001b[2K\u001b[34A\u001b[2K\u001b[34A\u001b[2K\u001b[34A\u001b[2K\u001b[34A\u001b[2K\u001b[34A\u001b[2K\u001b[34A\u001b[2K\u001b[34A\u001b[2K\u001b[34A\u001b[2K\u001b[34A\u001b[2K\u001b[34A\u001b[2K\u001b[34A\u001b[2K\u001b[34A\u001b[2K\u001b[34A\u001b[2K\u001b[34A\u001b[2K\u001b[34A\u001b[2K\u001b[34A\u001b[2K\u001b[34A\u001b[2K\u001b[34A\u001b[2K\u001b[34A\u001b[2K\u001b[34A\u001b[2K\u001b[34A\u001b[2K\u001b[34A\u001b[2K\u001b[34A\u001b[2K\u001b[34A\u001b[2K\u001b[34A\u001b[2K\u001b[34A\u001b[2K\u001b[34A\u001b[2K\u001b[34A\u001b[2K\u001b[34A\u001b[2K\u001b[34A\u001b[2K\u001b[34A\u001b[2KExtracting  392.2MB/4.13GB\u001b[34A\u001b[2K\u001b[34A\u001b[2K\u001b[34A\u001b[2K\u001b[34A\u001b[2K\u001b[34A\u001b[2K\u001b[34A\u001b[2K\u001b[34A\u001b[2K\u001b[34A\u001b[2K\u001b[34A\u001b[2K\u001b[34A\u001b[2K\u001b[34A\u001b[2K\u001b[34A\u001b[2K\u001b[34A\u001b[2K\u001b[34A\u001b[2K\u001b[34A\u001b[2K\u001b[34A\u001b[2K\u001b[34A\u001b[2K\u001b[34A\u001b[2K\u001b[34A\u001b[2K\u001b[34A\u001b[2K\u001b[34A\u001b[2K\u001b[34A\u001b[2K\u001b[34A\u001b[2K\u001b[34A\u001b[2K\u001b[34A\u001b[2K\u001b[34A\u001b[2K\u001b[34A\u001b[2K\u001b[34A\u001b[2K\u001b[34A\u001b[2K\u001b[34A\u001b[2K\u001b[34A\u001b[2K\u001b[34A\u001b[2K\u001b[34A\u001b[2K\u001b[34A\u001b[2K\u001b[34A\u001b[2K\u001b[34A\u001b[2K\u001b[34A\u001b[2K\u001b[34A\u001b[2K\u001b[34A\u001b[2K\u001b[34A\u001b[2K\u001b[34A\u001b[2K\u001b[34A\u001b[2K\u001b[34A\u001b[2K\u001b[34A\u001b[2K\u001b[34A\u001b[2K\u001b[34A\u001b[2K\u001b[34A\u001b[2K\u001b[34A\u001b[2K\u001b[34A\u001b[2K\u001b[34A\u001b[2K\u001b[34A\u001b[2K\u001b[34A\u001b[2K\u001b[34A\u001b[2K\u001b[34A\u001b[2K\u001b[34A\u001b[2K\u001b[34A\u001b[2K\u001b[34A\u001b[2K\u001b[34A\u001b[2K\u001b[34A\u001b[2K\u001b[34A\u001b[2K\u001b[34A\u001b[2K\u001b[34A\u001b[2K\u001b[34A\u001b[2K\u001b[34A\u001b[2K\u001b[34A\u001b[2K\u001b[34A\u001b[2K\u001b[34A\u001b[2K\u001b[34A\u001b[2K\u001b[34A\u001b[2K\u001b[34A\u001b[2K\u001b[34A\u001b[2K\u001b[34A\u001b[2K\u001b[34A\u001b[2K\u001b[34A\u001b[2K\u001b[34A\u001b[2K\u001b[34A\u001b[2K\u001b[34A\u001b[2K\u001b[34A\u001b[2K\u001b[34A\u001b[2K\u001b[34A\u001b[2K\u001b[34A\u001b[2K\u001b[34A\u001b[2K\u001b[34A\u001b[2K\u001b[34A\u001b[2K\u001b[34A\u001b[2K\u001b[34A\u001b[2K\u001b[34A\u001b[2K\u001b[34A\u001b[2K\u001b[34A\u001b[2K\u001b[34A\u001b[2K\u001b[34A\u001b[2K\u001b[34A\u001b[2K\u001b[34A\u001b[2K\u001b[34A\u001b[2K\u001b[34A\u001b[2K\u001b[34A\u001b[2K\u001b[34A\u001b[2K\u001b[34A\u001b[2K\u001b[34A\u001b[2K\u001b[34A\u001b[2K\u001b[34A\u001b[2K\u001b[34A\u001b[2K\u001b[34A\u001b[2K\u001b[34A\u001b[2K\u001b[34A\u001b[2K\u001b[34A\u001b[2K\u001b[34A\u001b[2K\u001b[34A\u001b[2K\u001b[34A\u001b[2K\u001b[34A\u001b[2K\u001b[34A\u001b[2K\u001b[34A\u001b[2K\u001b[34A\u001b[2K\u001b[34A\u001b[2K\u001b[34A\u001b[2K\u001b[34A\u001b[2K\u001b[34A\u001b[2K\u001b[34A\u001b[2K\u001b[34A\u001b[2K\u001b[34A\u001b[2K\u001b[34A\u001b[2K\u001b[34A\u001b[2K\u001b[34A\u001b[2K\u001b[34A\u001b[2K\u001b[34A\u001b[2K\u001b[34A\u001b[2K\u001b[34A\u001b[2K\u001b[34A\u001b[2K\u001b[34A\u001b[2K\u001b[34A\u001b[2K\u001b[34A\u001b[2K\u001b[34A\u001b[2K\u001b[34A\u001b[2K\u001b[34A\u001b[2K\u001b[34A\u001b[2K\u001b[34A\u001b[2K\u001b[34A\u001b[2K\u001b[34A\u001b[2K\u001b[34A\u001b[2K\u001b[34A\u001b[2K\u001b[34A\u001b[2K\u001b[34A\u001b[2K\u001b[34A\u001b[2K\u001b[34A\u001b[2K\u001b[34A\u001b[2K\u001b[34A\u001b[2K\u001b[34A\u001b[2K\u001b[34A\u001b[2K\u001b[34A\u001b[2K\u001b[34A\u001b[2K\u001b[34A\u001b[2K\u001b[34A\u001b[2K\u001b[34A\u001b[2K\u001b[34A\u001b[2K\u001b[34A\u001b[2K\u001b[34A\u001b[2K\u001b[34A\u001b[2K\u001b[34A\u001b[2K\u001b[34A\u001b[2K\u001b[34A\u001b[2K\u001b[34A\u001b[2K\u001b[34A\u001b[2K\u001b[34A\u001b[2K\u001b[34A\u001b[2K\u001b[34A\u001b[2K\u001b[34A\u001b[2K\u001b[34A\u001b[2K\u001b[34A\u001b[2K\u001b[34A\u001b[2K\u001b[34A\u001b[2K\u001b[34A\u001b[2K\u001b[34A\u001b[2K\u001b[34A\u001b[2K\u001b[34A\u001b[2K\u001b[34A\u001b[2K\u001b[34A\u001b[2K\u001b[34A\u001b[2K\u001b[34A\u001b[2K\u001b[34A\u001b[2K\u001b[34A\u001b[2K\u001b[34A\u001b[2K\u001b[34A\u001b[2K\u001b[34A\u001b[2K\u001b[34A\u001b[2K\u001b[34A\u001b[2K\u001b[34A\u001b[2K\u001b[34A\u001b[2K\u001b[34A\u001b[2K\u001b[34A\u001b[2K\u001b[34A\u001b[2K\u001b[34A\u001b[2K\u001b[34A\u001b[2K\u001b[34A\u001b[2K\u001b[34A\u001b[2K\u001b[34A\u001b[2K\u001b[34A\u001b[2K\u001b[34A\u001b[2K\u001b[34A\u001b[2K\u001b[34A\u001b[2K\u001b[34A\u001b[2K\u001b[34A\u001b[2K\u001b[34A\u001b[2K\u001b[34A\u001b[2K\u001b[34A\u001b[2K\u001b[34A\u001b[2K\u001b[34A\u001b[2K\u001b[34A\u001b[2K\u001b[34A\u001b[2K\u001b[34A\u001b[2K\u001b[34A\u001b[2K\u001b[34A\u001b[2K\u001b[34A\u001b[2K\u001b[34A\u001b[2K\u001b[34A\u001b[2K\u001b[34A\u001b[2K\u001b[34A\u001b[2K\u001b[34A\u001b[2K\u001b[34A\u001b[2K\u001b[34A\u001b[2K\u001b[34A\u001b[2K\u001b[34A\u001b[2K\u001b[34A\u001b[2K\u001b[34A\u001b[2K\u001b[34A\u001b[2K\u001b[34A\u001b[2K\u001b[34A\u001b[2K\u001b[34A\u001b[2K\u001b[34A\u001b[2K\u001b[34A\u001b[2K\u001b[34A\u001b[2K\u001b[34A\u001b[2K\u001b[34A\u001b[2K\u001b[34A\u001b[2K\u001b[34A\u001b[2K\u001b[34A\u001b[2K\u001b[34A\u001b[2K\u001b[34A\u001b[2K\u001b[34A\u001b[2K\u001b[34A\u001b[2K\u001b[34A\u001b[2K\u001b[34A\u001b[2K\u001b[34A\u001b[2K\u001b[34A\u001b[2K\u001b[34A\u001b[2K\u001b[34A\u001b[2K\u001b[34A\u001b[2K\u001b[34A\u001b[2K\u001b[34A\u001b[2K\u001b[34A\u001b[2K\u001b[34A\u001b[2K\u001b[34A\u001b[2K\u001b[34A\u001b[2K\u001b[34A\u001b[2K\u001b[34A\u001b[2K\u001b[34A\u001b[2K\u001b[34A\u001b[2K\u001b[34A\u001b[2K\u001b[34A\u001b[2K\u001b[34A\u001b[2K\u001b[34A\u001b[2K\u001b[34A\u001b[2K\u001b[34A\u001b[2K\u001b[34A\u001b[2K\u001b[34A\u001b[2K\u001b[34A\u001b[2K\u001b[34A\u001b[2K\u001b[34A\u001b[2K\u001b[34A\u001b[2K\u001b[34A\u001b[2K\u001b[34A\u001b[2K\u001b[34A\u001b[2K\u001b[34A\u001b[2K\u001b[34A\u001b[2K\u001b[34A\u001b[2K\u001b[34A\u001b[2K\u001b[34A\u001b[2K\u001b[34A\u001b[2K\u001b[34A\u001b[2K\u001b[34A\u001b[2K\u001b[34A\u001b[2K\u001b[34A\u001b[2K\u001b[34A\u001b[2K\u001b[34A\u001b[2K\u001b[34A\u001b[2K\u001b[34A\u001b[2K\u001b[34A\u001b[2K\u001b[34A\u001b[2K\u001b[34A\u001b[2K\u001b[34A\u001b[2K\u001b[34A\u001b[2K\u001b[34A\u001b[2K\u001b[34A\u001b[2K\u001b[34A\u001b[2K\u001b[34A\u001b[2K\u001b[34A\u001b[2K\u001b[34A\u001b[2K\u001b[34A\u001b[2K\u001b[34A\u001b[2K\u001b[34A\u001b[2K\u001b[34A\u001b[2K\u001b[34A\u001b[2K\u001b[34A\u001b[2K\u001b[34A\u001b[2K\u001b[34A\u001b[2K\u001b[34A\u001b[2K\u001b[34A\u001b[2K\u001b[34A\u001b[2K\u001b[34A\u001b[2K\u001b[34A\u001b[2K\u001b[34A\u001b[2K\u001b[34A\u001b[2K\u001b[34A\u001b[2K\u001b[34A\u001b[2K\u001b[34A\u001b[2K\u001b[34A\u001b[2K\u001b[34A\u001b[2K\u001b[34A\u001b[2K\u001b[34A\u001b[2K\u001b[34A\u001b[2K\u001b[34A\u001b[2K\u001b[34A\u001b[2K\u001b[34A\u001b[2K\u001b[34A\u001b[2K\u001b[34A\u001b[2K\u001b[34A\u001b[2K\u001b[34A\u001b[2K\u001b[34A\u001b[2K\u001b[34A\u001b[2K\u001b[34A\u001b[2K\u001b[34A\u001b[2K\u001b[34A\u001b[2K\u001b[34A\u001b[2K\u001b[34A\u001b[2K\u001b[34A\u001b[2K\u001b[34A\u001b[2K\u001b[34A\u001b[2K\u001b[34A\u001b[2K\u001b[34A\u001b[2K\u001b[34A\u001b[2K\u001b[34A\u001b[2K\u001b[34A\u001b[2K\u001b[34A\u001b[2K\u001b[34A\u001b[2K\u001b[34A\u001b[2K\u001b[34A\u001b[2K\u001b[34A\u001b[2K\u001b[34A\u001b[2K\u001b[34A\u001b[2K\u001b[34A\u001b[2K\u001b[34A\u001b[2K\u001b[34A\u001b[2K\u001b[34A\u001b[2K\u001b[34A\u001b[2K\u001b[34A\u001b[2K\u001b[34A\u001b[2K\u001b[34A\u001b[2K\u001b[34A\u001b[2K\u001b[34A\u001b[2K\u001b[34A\u001b[2K\u001b[34A\u001b[2K\u001b[34A\u001b[2K\u001b[34A\u001b[2K\u001b[34A\u001b[2K\u001b[34A\u001b[2K\u001b[34A\u001b[2K\u001b[34A\u001b[2K\u001b[34A\u001b[2K\u001b[34A\u001b[2K\u001b[34A\u001b[2K\u001b[34A\u001b[2K\u001b[34A\u001b[2K\u001b[34A\u001b[2K\u001b[34A\u001b[2K\u001b[34A\u001b[2K\u001b[33A\u001b[2K\u001b[33A\u001b[2K\u001b[32A\u001b[2K\u001b[32A\u001b[2K\u001b[31A\u001b[2K\u001b[30A\u001b[2K\u001b[29A\u001b[2K\u001b[29A\u001b[2K\u001b[29A\u001b[2K\u001b[29A\u001b[2K\u001b[29A\u001b[2K\u001b[29A\u001b[2K\u001b[29A\u001b[2K\u001b[29A\u001b[2K\u001b[29A\u001b[2K\u001b[29A\u001b[2K\u001b[29A\u001b[2K\u001b[29A\u001b[2K\u001b[28A\u001b[2K\u001b[28A\u001b[2K\u001b[28A\u001b[2K\u001b[28A\u001b[2K\u001b[28A\u001b[2K\u001b[28A\u001b[2K\u001b[28A\u001b[2K\u001b[28A\u001b[2K\u001b[28A\u001b[2K\u001b[28A\u001b[2K\u001b[28A\u001b[2K\u001b[28A\u001b[2K\u001b[28A\u001b[2K\u001b[28A\u001b[2K\u001b[28A\u001b[2K\u001b[27A\u001b[2K\u001b[27A\u001b[2K\u001b[26A\u001b[2K\u001b[26A\u001b[2K\u001b[26A\u001b[2K\u001b[26A\u001b[2K\u001b[26A\u001b[2K\u001b[26A\u001b[2K\u001b[26A\u001b[2K\u001b[26A\u001b[2K\u001b[26A\u001b[2K\u001b[26A\u001b[2K\u001b[26A\u001b[2K\u001b[26A\u001b[2K\u001b[26A\u001b[2K\u001b[26A\u001b[2K\u001b[26A\u001b[2K\u001b[26A\u001b[2K\u001b[26A\u001b[2K\u001b[26A\u001b[2K\u001b[26A\u001b[2K\u001b[26A\u001b[2K\u001b[26A\u001b[2K\u001b[26A\u001b[2K\u001b[26A\u001b[2K\u001b[26A\u001b[2K\u001b[26A\u001b[2K\u001b[26A\u001b[2K\u001b[26A\u001b[2K\u001b[26A\u001b[2K\u001b[26A\u001b[2K\u001b[26A\u001b[2K\u001b[26A\u001b[2K\u001b[26A\u001b[2K\u001b[26A\u001b[2K\u001b[26A\u001b[2K\u001b[26A\u001b[2K\u001b[26A\u001b[2K\u001b[26A\u001b[2K\u001b[26A\u001b[2K\u001b[26A\u001b[2K\u001b[26A\u001b[2K\u001b[26A\u001b[2K\u001b[26A\u001b[2K\u001b[26A\u001b[2K\u001b[26A\u001b[2K\u001b[26A\u001b[2K\u001b[26A\u001b[2K\u001b[25A\u001b[2K\u001b[25A\u001b[2K\u001b[25A\u001b[2K\u001b[25A\u001b[2K\u001b[25A\u001b[2K\u001b[25A\u001b[2K\u001b[25A\u001b[2K\u001b[25A\u001b[2K\u001b[25A\u001b[2K\u001b[25A\u001b[2K\u001b[25A\u001b[2K\u001b[25A\u001b[2K\u001b[25A\u001b[2K\u001b[25A\u001b[2K\u001b[25A\u001b[2K\u001b[25A\u001b[2K\u001b[25A\u001b[2K\u001b[25A\u001b[2K\u001b[25A\u001b[2K\u001b[25A\u001b[2K\u001b[25A\u001b[2K\u001b[25A\u001b[2K\u001b[25A\u001b[2K\u001b[25A\u001b[2K\u001b[25A\u001b[2K\u001b[25A\u001b[2K\u001b[25A\u001b[2K\u001b[25A\u001b[2K\u001b[25A\u001b[2K\u001b[25A\u001b[2K\u001b[25A\u001b[2K\u001b[25A\u001b[2K\u001b[25A\u001b[2K\u001b[25A\u001b[2K\u001b[25A\u001b[2K\u001b[25A\u001b[2K\u001b[25A\u001b[2K\u001b[25A\u001b[2K\u001b[25A\u001b[2K\u001b[25A\u001b[2K\u001b[25A\u001b[2K\u001b[25A\u001b[2K\u001b[25A\u001b[2K\u001b[25A\u001b[2K\u001b[25A\u001b[2K\u001b[25A\u001b[2K\u001b[25A\u001b[2K\u001b[25A\u001b[2K\u001b[25A\u001b[2K\u001b[25A\u001b[2K\u001b[25A\u001b[2K\u001b[25A\u001b[2K\u001b[25A\u001b[2K\u001b[25A\u001b[2K\u001b[25A\u001b[2K\u001b[25A\u001b[2K\u001b[25A\u001b[2K\u001b[25A\u001b[2K\u001b[25A\u001b[2K\u001b[25A\u001b[2K\u001b[25A\u001b[2K\u001b[25A\u001b[2K\u001b[25A\u001b[2K\u001b[25A\u001b[2K\u001b[25A\u001b[2K\u001b[25A\u001b[2K\u001b[25A\u001b[2K\u001b[25A\u001b[2K\u001b[25A\u001b[2K\u001b[25A\u001b[2K\u001b[25A\u001b[2K\u001b[25A\u001b[2K\u001b[25A\u001b[2K\u001b[24A\u001b[2K\u001b[24A\u001b[2K\u001b[24A\u001b[2K\u001b[24A\u001b[2K\u001b[24A\u001b[2K\u001b[24A\u001b[2K\u001b[24A\u001b[2K\u001b[24A\u001b[2K\u001b[24A\u001b[2K\u001b[24A\u001b[2K\u001b[24A\u001b[2K\u001b[24A\u001b[2K\u001b[24A\u001b[2K\u001b[24A\u001b[2K\u001b[24A\u001b[2K\u001b[24A\u001b[2K\u001b[24A\u001b[2K\u001b[24A\u001b[2K\u001b[24A\u001b[2K\u001b[24A\u001b[2K\u001b[24A\u001b[2K\u001b[24A\u001b[2K\u001b[24A\u001b[2K\u001b[24A\u001b[2K\u001b[24A\u001b[2K\u001b[24A\u001b[2K\u001b[24A\u001b[2K\u001b[24A\u001b[2K\u001b[24A\u001b[2K\u001b[24A\u001b[2K\u001b[24A\u001b[2K\u001b[24A\u001b[2K\u001b[24A\u001b[2K\u001b[24A\u001b[2K\u001b[24A\u001b[2K\u001b[24A\u001b[2K\u001b[24A\u001b[2K\u001b[24A\u001b[2K\u001b[24A\u001b[2K\u001b[24A\u001b[2K\u001b[24A\u001b[2K\u001b[24A\u001b[2K\u001b[24A\u001b[2K\u001b[24A\u001b[2K\u001b[24A\u001b[2K\u001b[24A\u001b[2K\u001b[24A\u001b[2K\u001b[24A\u001b[2K\u001b[24A\u001b[2K\u001b[24A\u001b[2K\u001b[24A\u001b[2K\u001b[24A\u001b[2K\u001b[24A\u001b[2K\u001b[24A\u001b[2K\u001b[24A\u001b[2K\u001b[24A\u001b[2K\u001b[24A\u001b[2K\u001b[24A\u001b[2K\u001b[24A\u001b[2K\u001b[24A\u001b[2K\u001b[24A\u001b[2K\u001b[24A\u001b[2K\u001b[24A\u001b[2K\u001b[24A\u001b[2K\u001b[24A\u001b[2K\u001b[24A\u001b[2K\u001b[24A\u001b[2K\u001b[24A\u001b[2K\u001b[24A\u001b[2K\u001b[24A\u001b[2K\u001b[24A\u001b[2K\u001b[24A\u001b[2K\u001b[24A\u001b[2K\u001b[24A\u001b[2K\u001b[24A\u001b[2K\u001b[24A\u001b[2K\u001b[24A\u001b[2K\u001b[24A\u001b[2K\u001b[24A\u001b[2K\u001b[24A\u001b[2K\u001b[24A\u001b[2K\u001b[24A\u001b[2K\u001b[24A\u001b[2K\u001b[24A\u001b[2K\u001b[24A\u001b[2K\u001b[24A\u001b[2K\u001b[24A\u001b[2K\u001b[24A\u001b[2K\u001b[24A\u001b[2K\u001b[24A\u001b[2K\u001b[24A\u001b[2K\u001b[24A\u001b[2K\u001b[24A\u001b[2K\u001b[24A\u001b[2K\u001b[24A\u001b[2K\u001b[24A\u001b[2K\u001b[24A\u001b[2K\u001b[24A\u001b[2K\u001b[24A\u001b[2K\u001b[24A\u001b[2K\u001b[24A\u001b[2K\u001b[24A\u001b[2K\u001b[24A\u001b[2K\u001b[24A\u001b[2K\u001b[24A\u001b[2K\u001b[24A\u001b[2K\u001b[24A\u001b[2K\u001b[24A\u001b[2K\u001b[24A\u001b[2K\u001b[23A\u001b[2K\u001b[22A\u001b[2K\u001b[22A\u001b[2K\u001b[21A\u001b[2K\u001b[21A\u001b[2K\u001b[21A\u001b[2K\u001b[21A\u001b[2K\u001b[21A\u001b[2K\u001b[21A\u001b[2K\u001b[21A\u001b[2K\u001b[21A\u001b[2K\u001b[21A\u001b[2K\u001b[21A\u001b[2K\u001b[21A\u001b[2K\u001b[20A\u001b[2K\u001b[20A\u001b[2K\u001b[20A\u001b[2K\u001b[20A\u001b[2K\u001b[20A\u001b[2K\u001b[20A\u001b[2K\u001b[20A\u001b[2K\u001b[20A\u001b[2K\u001b[20A\u001b[2K\u001b[20A\u001b[2K\u001b[20A\u001b[2K\u001b[20A\u001b[2K\u001b[20A\u001b[2K\u001b[19A\u001b[2K\u001b[19A\u001b[2K\u001b[19A\u001b[2K\u001b[19A\u001b[2K\u001b[19A\u001b[2K\u001b[19A\u001b[2K\u001b[18A\u001b[2K\u001b[18A\u001b[2K\u001b[18A\u001b[2K\u001b[18A\u001b[2K\u001b[18A\u001b[2K\u001b[18A\u001b[2K\u001b[18A\u001b[2K\u001b[18A\u001b[2K\u001b[18A\u001b[2K\u001b[18A\u001b[2K\u001b[18A\u001b[2K\u001b[18A\u001b[2K\u001b[18A\u001b[2K\u001b[18A\u001b[2K\u001b[18A\u001b[2K\u001b[18A\u001b[2K\u001b[18A\u001b[2K\u001b[18A\u001b[2K\u001b[18A\u001b[2K\u001b[18A\u001b[2K\u001b[18A\u001b[2K\u001b[18A\u001b[2K\u001b[18A\u001b[2K\u001b[18A\u001b[2K\u001b[18A\u001b[2K\u001b[18A\u001b[2K\u001b[18A\u001b[2K\u001b[18A\u001b[2K\u001b[18A\u001b[2K\u001b[18A\u001b[2K\u001b[18A\u001b[2K\u001b[18A\u001b[2K\u001b[18A\u001b[2K\u001b[18A\u001b[2K\u001b[18A\u001b[2K\u001b[18A\u001b[2K\u001b[18A\u001b[2K\u001b[18A\u001b[2K\u001b[18A\u001b[2K\u001b[18A\u001b[2K\u001b[18A\u001b[2K\u001b[18A\u001b[2K\u001b[18A\u001b[2K\u001b[18A\u001b[2K\u001b[18A\u001b[2K\u001b[18A\u001b[2K\u001b[18A\u001b[2K\u001b[18A\u001b[2K\u001b[18A\u001b[2K\u001b[18A\u001b[2K\u001b[18A\u001b[2K\u001b[18A\u001b[2K\u001b[18A\u001b[2K\u001b[18A\u001b[2K\u001b[18A\u001b[2K\u001b[18A\u001b[2K\u001b[18A\u001b[2K\u001b[18A\u001b[2K\u001b[18A\u001b[2K\u001b[18A\u001b[2K\u001b[18A\u001b[2K\u001b[18A\u001b[2K\u001b[18A\u001b[2K\u001b[18A\u001b[2K\u001b[18A\u001b[2K\u001b[18A\u001b[2K\u001b[18A\u001b[2K\u001b[18A\u001b[2K\u001b[18A\u001b[2K\u001b[18A\u001b[2K\u001b[18A\u001b[2K\u001b[18A\u001b[2K\u001b[18A\u001b[2K\u001b[18A\u001b[2K\u001b[18A\u001b[2K\u001b[18A\u001b[2K\u001b[18A\u001b[2K\u001b[18A\u001b[2K\u001b[18A\u001b[2K\u001b[18A\u001b[2K\u001b[18A\u001b[2K\u001b[18A\u001b[2K\u001b[18A\u001b[2K\u001b[18A\u001b[2K\u001b[18A\u001b[2K\u001b[18A\u001b[2K\u001b[18A\u001b[2K\u001b[18A\u001b[2K\u001b[18A\u001b[2K\u001b[18A\u001b[2K\u001b[18A\u001b[2K\u001b[18A\u001b[2K\u001b[18A\u001b[2K\u001b[18A\u001b[2K\u001b[18A\u001b[2K\u001b[18A\u001b[2K\u001b[18A\u001b[2K\u001b[18A\u001b[2K\u001b[18A\u001b[2K\u001b[18A\u001b[2K\u001b[18A\u001b[2K\u001b[18A\u001b[2K\u001b[18A\u001b[2K\u001b[18A\u001b[2K\u001b[18A\u001b[2K\u001b[18A\u001b[2K\u001b[18A\u001b[2K\u001b[18A\u001b[2K\u001b[18A\u001b[2K\u001b[18A\u001b[2K\u001b[18A\u001b[2K\u001b[17A\u001b[2K\u001b[17A\u001b[2K\u001b[16A\u001b[2K\u001b[16A\u001b[2K\u001b[16A\u001b[2K\u001b[16A\u001b[2K\u001b[16A\u001b[2K\u001b[16A\u001b[2K\u001b[16A\u001b[2K\u001b[16A\u001b[2K\u001b[16A\u001b[2K\u001b[16A\u001b[2K\u001b[16A\u001b[2K\u001b[16A\u001b[2K\u001b[16A\u001b[2K\u001b[16A\u001b[2K\u001b[16A\u001b[2K\u001b[16A\u001b[2K\u001b[16A\u001b[2K\u001b[16A\u001b[2K\u001b[16A\u001b[2K\u001b[16A\u001b[2K\u001b[16A\u001b[2K\u001b[16A\u001b[2K\u001b[16A\u001b[2K\u001b[16A\u001b[2K\u001b[16A\u001b[2K\u001b[16A\u001b[2K\u001b[16A\u001b[2K\u001b[16A\u001b[2K\u001b[16A\u001b[2K\u001b[16A\u001b[2K\u001b[16A\u001b[2K\u001b[16A\u001b[2K\u001b[16A\u001b[2K\u001b[16A\u001b[2K\u001b[16A\u001b[2K\u001b[16A\u001b[2K\u001b[16A\u001b[2K\u001b[16A\u001b[2K\u001b[16A\u001b[2K\u001b[16A\u001b[2K\u001b[16A\u001b[2K\u001b[16A\u001b[2K\u001b[16A\u001b[2K\u001b[16A\u001b[2K\u001b[16A\u001b[2K\u001b[16A\u001b[2K\u001b[16A\u001b[2K\u001b[16A\u001b[2K\u001b[16A\u001b[2K\u001b[16A\u001b[2K\u001b[16A\u001b[2K\u001b[16A\u001b[2K\u001b[16A\u001b[2K\u001b[16A\u001b[2K\u001b[16A\u001b[2K\u001b[16A\u001b[2K\u001b[16A\u001b[2K\u001b[16A\u001b[2K\u001b[16A\u001b[2K\u001b[16A\u001b[2K\u001b[16A\u001b[2K\u001b[16A\u001b[2K\u001b[16A\u001b[2K\u001b[16A\u001b[2K\u001b[16A\u001b[2K\u001b[16A\u001b[2K\u001b[16A\u001b[2K\u001b[16A\u001b[2K\u001b[16A\u001b[2K\u001b[15A\u001b[2K\u001b[15A\u001b[2K\u001b[15A\u001b[2K\u001b[15A\u001b[2K\u001b[15A\u001b[2K\u001b[15A\u001b[2K\u001b[15A\u001b[2K\u001b[15A\u001b[2K\u001b[15A\u001b[2K\u001b[15A\u001b[2K\u001b[15A\u001b[2K\u001b[15A\u001b[2K\u001b[15A\u001b[2K\u001b[15A\u001b[2K\u001b[15A\u001b[2K\u001b[15A\u001b[2K\u001b[15A\u001b[2K\u001b[15A\u001b[2K\u001b[15A\u001b[2K\u001b[15A\u001b[2K\u001b[15A\u001b[2K\u001b[15A\u001b[2K\u001b[15A\u001b[2K\u001b[15A\u001b[2K\u001b[15A\u001b[2K\u001b[15A\u001b[2K\u001b[15A\u001b[2K\u001b[15A\u001b[2K\u001b[15A\u001b[2K\u001b[15A\u001b[2K\u001b[15A\u001b[2K\u001b[15A\u001b[2K\u001b[15A\u001b[2K\u001b[15A\u001b[2K\u001b[15A\u001b[2K\u001b[15A\u001b[2K\u001b[15A\u001b[2K\u001b[15A\u001b[2K\u001b[15A\u001b[2K\u001b[15A\u001b[2K\u001b[15A\u001b[2K\u001b[15A\u001b[2K\u001b[15A\u001b[2K\u001b[15A\u001b[2K\u001b[15A\u001b[2K\u001b[15A\u001b[2K\u001b[15A\u001b[2K\u001b[15A\u001b[2K\u001b[15A\u001b[2K\u001b[15A\u001b[2K\u001b[15A\u001b[2K\u001b[15A\u001b[2K\u001b[15A\u001b[2K\u001b[15A\u001b[2K\u001b[15A\u001b[2K\u001b[15A\u001b[2K\u001b[15A\u001b[2K\u001b[15A\u001b[2K\u001b[15A\u001b[2K\u001b[15A\u001b[2K\u001b[15A\u001b[2K\u001b[15A\u001b[2K\u001b[15A\u001b[2K\u001b[15A\u001b[2K\u001b[15A\u001b[2K\u001b[15A\u001b[2K\u001b[15A\u001b[2K\u001b[15A\u001b[2K\u001b[15A\u001b[2K\u001b[15A\u001b[2K\u001b[15A\u001b[2K\u001b[15A\u001b[2K\u001b[15A\u001b[2K\u001b[15A\u001b[2K\u001b[15A\u001b[2K\u001b[15A\u001b[2K\u001b[15A\u001b[2K\u001b[15A\u001b[2K\u001b[15A\u001b[2K\u001b[15A\u001b[2K\u001b[15A\u001b[2K\u001b[15A\u001b[2K\u001b[15A\u001b[2K\u001b[15A\u001b[2K\u001b[15A\u001b[2K\u001b[15A\u001b[2K\u001b[15A\u001b[2K\u001b[15A\u001b[2K\u001b[15A\u001b[2K\u001b[15A\u001b[2K\u001b[15A\u001b[2K\u001b[15A\u001b[2K\u001b[15A\u001b[2K\u001b[15A\u001b[2K\u001b[15A\u001b[2K\u001b[15A\u001b[2K\u001b[15A\u001b[2K\u001b[15A\u001b[2K\u001b[15A\u001b[2K\u001b[15A\u001b[2K\u001b[15A\u001b[2K\u001b[15A\u001b[2K\u001b[15A\u001b[2K\u001b[15A\u001b[2K\u001b[15A\u001b[2K\u001b[15A\u001b[2K\u001b[15A\u001b[2K\u001b[15A\u001b[2K\u001b[15A\u001b[2K\u001b[15A\u001b[2K\u001b[15A\u001b[2K\u001b[15A\u001b[2K\u001b[15A\u001b[2K\u001b[15A\u001b[2K\u001b[15A\u001b[2K\u001b[15A\u001b[2K\u001b[15A\u001b[2K\u001b[15A\u001b[2K\u001b[15A\u001b[2K\u001b[15A\u001b[2K\u001b[15A\u001b[2K\u001b[15A\u001b[2K\u001b[15A\u001b[2K\u001b[15A\u001b[2K\u001b[15A\u001b[2K\u001b[15A\u001b[2K\u001b[15A\u001b[2K\u001b[15A\u001b[2K\u001b[15A\u001b[2K\u001b[15A\u001b[2K\u001b[15A\u001b[2K\u001b[15A\u001b[2K\u001b[15A\u001b[2K\u001b[15A\u001b[2K\u001b[15A\u001b[2K\u001b[15A\u001b[2K\u001b[15A\u001b[2K\u001b[15A\u001b[2K\u001b[15A\u001b[2K\u001b[15A\u001b[2K\u001b[15A\u001b[2K\u001b[15A\u001b[2K\u001b[15A\u001b[2K\u001b[15A\u001b[2K\u001b[15A\u001b[2K\u001b[15A\u001b[2K\u001b[15A\u001b[2K\u001b[15A\u001b[2K\u001b[15A\u001b[2K\u001b[15A\u001b[2K\u001b[15A\u001b[2K\u001b[15A\u001b[2K\u001b[15A\u001b[2K\u001b[15A\u001b[2K\u001b[15A\u001b[2K\u001b[15A\u001b[2K\u001b[15A\u001b[2K\u001b[15A\u001b[2K\u001b[15A\u001b[2K\u001b[15A\u001b[2K\u001b[15A\u001b[2K\u001b[15A\u001b[2K\u001b[15A\u001b[2K\u001b[15A\u001b[2K\u001b[15A\u001b[2K\u001b[15A\u001b[2K\u001b[15A\u001b[2K\u001b[15A\u001b[2K\u001b[15A\u001b[2K\u001b[15A\u001b[2K\u001b[15A\u001b[2K\u001b[15A\u001b[2K\u001b[15A\u001b[2K\u001b[15A\u001b[2K\u001b[15A\u001b[2K\u001b[15A\u001b[2K\u001b[15A\u001b[2K\u001b[15A\u001b[2K\u001b[15A\u001b[2K\u001b[15A\u001b[2K\u001b[15A\u001b[2K\u001b[15A\u001b[2K\u001b[15A\u001b[2K\u001b[15A\u001b[2K\u001b[15A\u001b[2K\u001b[15A\u001b[2K\u001b[15A\u001b[2K\u001b[15A\u001b[2K\u001b[15A\u001b[2K\u001b[15A\u001b[2K\u001b[15A\u001b[2K\u001b[15A\u001b[2K\u001b[15A\u001b[2K\u001b[15A\u001b[2K\u001b[15A\u001b[2K\u001b[15A\u001b[2K\u001b[15A\u001b[2K\u001b[15A\u001b[2K\u001b[15A\u001b[2K\u001b[15A\u001b[2K\u001b[15A\u001b[2K\u001b[15A\u001b[2K\u001b[15A\u001b[2K\u001b[15A\u001b[2K\u001b[15A\u001b[2K\u001b[15A\u001b[2K\u001b[15A\u001b[2K\u001b[15A\u001b[2K\u001b[15A\u001b[2K\u001b[15A\u001b[2K\u001b[15A\u001b[2K\u001b[15A\u001b[2K\u001b[15A\u001b[2K\u001b[15A\u001b[2K\u001b[15A\u001b[2K\u001b[15A\u001b[2K\u001b[15A\u001b[2K\u001b[15A\u001b[2K\u001b[15A\u001b[2K\u001b[15A\u001b[2K\u001b[15A\u001b[2K\u001b[15A\u001b[2K\u001b[15A\u001b[2K\u001b[15A\u001b[2K\u001b[15A\u001b[2K\u001b[15A\u001b[2K\u001b[15A\u001b[2K\u001b[15A\u001b[2K\u001b[15A\u001b[2K\u001b[15A\u001b[2K\u001b[15A\u001b[2K\u001b[15A\u001b[2K\u001b[15A\u001b[2K\u001b[15A\u001b[2K\u001b[15A\u001b[2K\u001b[15A\u001b[2K\u001b[15A\u001b[2K\u001b[15A\u001b[2K\u001b[15A\u001b[2K\u001b[15A\u001b[2K\u001b[15A\u001b[2K\u001b[15A\u001b[2K\u001b[15A\u001b[2K\u001b[15A\u001b[2K\u001b[15A\u001b[2K\u001b[15A\u001b[2K\u001b[15A\u001b[2K\u001b[15A\u001b[2K\u001b[15A\u001b[2K\u001b[15A\u001b[2K\u001b[15A\u001b[2K\u001b[15A\u001b[2K\u001b[14A\u001b[2K\u001b[14A\u001b[2K\u001b[14A\u001b[2K\u001b[13A\u001b[2K\u001b[13A\u001b[2K\u001b[13A\u001b[2K\u001b[13A\u001b[2K\u001b[13A\u001b[2K\u001b[13A\u001b[2K\u001b[13A\u001b[2K\u001b[13A\u001b[2K\u001b[13A\u001b[2K\u001b[13A\u001b[2K\u001b[13A\u001b[2K\u001b[13A\u001b[2K\u001b[13A\u001b[2K\u001b[13A\u001b[2K\u001b[13A\u001b[2K\u001b[13A\u001b[2K\u001b[13A\u001b[2K\u001b[13A\u001b[2K\u001b[13A\u001b[2K\u001b[13A\u001b[2K\u001b[13A\u001b[2K\u001b[13A\u001b[2K\u001b[13A\u001b[2K\u001b[12A\u001b[2K\u001b[12A\u001b[2K\u001b[12A\u001b[2K\u001b[12A\u001b[2K\u001b[12A\u001b[2K\u001b[12A\u001b[2K\u001b[12A\u001b[2K\u001b[12A\u001b[2K\u001b[12A\u001b[2K\u001b[12A\u001b[2K\u001b[12A\u001b[2K\u001b[12A\u001b[2K\u001b[12A\u001b[2K\u001b[12A\u001b[2K\u001b[12A\u001b[2K\u001b[12A\u001b[2K\u001b[12A\u001b[2K\u001b[12A\u001b[2K\u001b[12A\u001b[2K\u001b[12A\u001b[2K\u001b[12A\u001b[2K\u001b[12A\u001b[2K\u001b[12A\u001b[2K\u001b[12A\u001b[2K\u001b[12A\u001b[2K\u001b[12A\u001b[2K\u001b[12A\u001b[2K\u001b[12A\u001b[2K\u001b[12A\u001b[2K\u001b[12A\u001b[2K\u001b[12A\u001b[2K\u001b[12A\u001b[2K\u001b[12A\u001b[2K\u001b[12A\u001b[2K\u001b[12A\u001b[2K\u001b[12A\u001b[2K\u001b[12A\u001b[2K\u001b[12A\u001b[2K\u001b[12A\u001b[2K\u001b[12A\u001b[2K\u001b[12A\u001b[2K\u001b[12A\u001b[2K\u001b[12A\u001b[2K\u001b[12A\u001b[2K\u001b[12A\u001b[2K\u001b[12A\u001b[2K\u001b[12A\u001b[2K\u001b[12A\u001b[2K\u001b[12A\u001b[2K\u001b[12A\u001b[2K\u001b[12A\u001b[2K\u001b[12A\u001b[2K\u001b[12A\u001b[2K\u001b[12A\u001b[2K\u001b[12A\u001b[2K\u001b[12A\u001b[2K\u001b[12A\u001b[2K\u001b[12A\u001b[2K\u001b[12A\u001b[2K\u001b[12A\u001b[2K\u001b[12A\u001b[2K\u001b[12A\u001b[2K\u001b[12A\u001b[2K\u001b[12A\u001b[2K\u001b[12A\u001b[2K\u001b[12A\u001b[2K\u001b[12A\u001b[2K\u001b[12A\u001b[2K\u001b[12A\u001b[2K\u001b[12A\u001b[2K\u001b[12A\u001b[2K\u001b[12A\u001b[2K\u001b[12A\u001b[2K\u001b[12A\u001b[2K\u001b[12A\u001b[2K\u001b[12A\u001b[2K\u001b[12A\u001b[2K\u001b[12A\u001b[2K\u001b[12A\u001b[2K\u001b[12A\u001b[2K\u001b[12A\u001b[2K\u001b[12A\u001b[2K\u001b[12A\u001b[2K\u001b[12A\u001b[2K\u001b[12A\u001b[2K\u001b[12A\u001b[2K\u001b[12A\u001b[2K\u001b[12A\u001b[2K\u001b[12A\u001b[2K\u001b[12A\u001b[2K\u001b[12A\u001b[2K\u001b[12A\u001b[2K\u001b[11A\u001b[2K\u001b[10A\u001b[2K\u001b[10A\u001b[2K\u001b[10A\u001b[2K\u001b[10A\u001b[2K\u001b[10A\u001b[2K\u001b[10A\u001b[2K\u001b[10A\u001b[2K\u001b[10A\u001b[2K\u001b[9A\u001b[2K\u001b[8A\u001b[2K\u001b[7A\u001b[2K\u001b[7A\u001b[2K\u001b[6A\u001b[2K\u001b[6A\u001b[2K\u001b[6A\u001b[2K\u001b[6A\u001b[2K\u001b[6A\u001b[2K\u001b[6A\u001b[2K\u001b[6A\u001b[2K\u001b[6A\u001b[2K\u001b[6A\u001b[2K\u001b[6A\u001b[2K\u001b[6A\u001b[2K\u001b[6A\u001b[2K\u001b[6A\u001b[2K\u001b[6A\u001b[2K\u001b[6A\u001b[2K\u001b[5A\u001b[2K\u001b[5A\u001b[2K\u001b[5A\u001b[2K\u001b[4A\u001b[2K\u001b[4A\u001b[2K\u001b[3A\u001b[2K\u001b[3A\u001b[2K\u001b[3A\u001b[2K\u001b[3A\u001b[2K\u001b[2A\u001b[2K\u001b[2A\u001b[2K\u001b[1A\u001b[2K\u001b[1A\u001b[2K\u001b[1A\u001b[2K\u001b[1A\u001b[2K\u001b[1A\u001b[2K\u001b[1A\u001b[2K\u001b[1A\u001b[2KDigest: sha256:24235c573beedf6df89f76062b0e183cb450b46e93f4ce293e8b69d2e666b176\n",
      "Status: Downloaded newer image for nvcr.io/nvidia/tritonserver:24.08-trtllm-python-py3\n",
      "\n",
      "=============================\n",
      "== Triton Inference Server ==\n",
      "=============================\n",
      "\n",
      "NVIDIA Release 24.08 (build 107631468)\n",
      "Triton Server Version 2.49.0\n",
      "\n",
      "Copyright (c) 2018-2024, NVIDIA CORPORATION & AFFILIATES.  All rights reserved.\n",
      "\n",
      "Various files include modifications (c) NVIDIA CORPORATION & AFFILIATES.  All rights reserved.\n",
      "\n",
      "This container image and its contents are governed by the NVIDIA Deep Learning Container License.\n",
      "By pulling and using the container, you accept the terms and conditions of this license:\n",
      "https://developer.nvidia.com/ngc/nvidia-deep-learning-container-license\n",
      "\n",
      "NOTE: CUDA Forward Compatibility mode ENABLED.\n",
      "  Using CUDA 12.5 driver version 555.42.06 with kernel driver version 535.183.01.\n",
      "  See https://docs.nvidia.com/deploy/cuda-compatibility/ for details.\n",
      "\n",
      "Git cloning the TRT-LLM Backend repo from GitHub and setting it up...\n",
      "Cloning into 'tensorrtllm_backend'...\n",
      "Updated git hooks.\n",
      "Git LFS initialized.\n",
      "Submodule 'tensorrt_llm' (https://github.com/NVIDIA/TensorRT-LLM.git) registered for path 'tensorrt_llm'\n",
      "Cloning into '/workspace/tensorrtllm_backend/tensorrt_llm'...\n",
      "Submodule path 'tensorrt_llm': checked out 'e15337275966ee9dea22aba8a6dba138354f6027'\n",
      "Submodule '3rdparty/NVTX' (https://github.com/NVIDIA/NVTX.git) registered for path 'tensorrt_llm/3rdparty/NVTX'\n",
      "Submodule '3rdparty/cutlass' (https://github.com/NVIDIA/cutlass.git) registered for path 'tensorrt_llm/3rdparty/cutlass'\n",
      "Submodule '3rdparty/cxxopts' (https://github.com/jarro2783/cxxopts) registered for path 'tensorrt_llm/3rdparty/cxxopts'\n",
      "Submodule '3rdparty/json' (https://github.com/nlohmann/json.git) registered for path 'tensorrt_llm/3rdparty/json'\n",
      "Submodule '3rdparty/ucxx' (https://github.com/GuanLuo/ucxx.git) registered for path 'tensorrt_llm/3rdparty/ucxx'\n",
      "Cloning into '/workspace/tensorrtllm_backend/tensorrt_llm/3rdparty/NVTX'...\n",
      "Cloning into '/workspace/tensorrtllm_backend/tensorrt_llm/3rdparty/cutlass'...\n",
      "Cloning into '/workspace/tensorrtllm_backend/tensorrt_llm/3rdparty/cxxopts'...\n",
      "Cloning into '/workspace/tensorrtllm_backend/tensorrt_llm/3rdparty/json'...\n",
      "Cloning into '/workspace/tensorrtllm_backend/tensorrt_llm/3rdparty/ucxx'...\n",
      "Submodule path 'tensorrt_llm/3rdparty/NVTX': checked out 'a1ceb0677f67371ed29a2b1c022794f077db5fe7'\n",
      "Submodule path 'tensorrt_llm/3rdparty/cutlass': checked out '19b4c5e065e7e5bbc8082dfc7dbd792bdac850fc'\n",
      "Submodule path 'tensorrt_llm/3rdparty/cxxopts': checked out 'eb787304d67ec22f7c3a184ee8b4c481d04357fd'\n",
      "Submodule path 'tensorrt_llm/3rdparty/json': checked out 'bc889afb4c5bf1c0d8ee29ef35eaaf4c8bef8a5d'\n",
      "Submodule path 'tensorrt_llm/3rdparty/ucxx': checked out 'b99181779672965c6f325a95a29eb433b6e9cbbd'\n",
      "sending incremental file list\n",
      "created directory triton_model_repo\n",
      "./\n",
      "ensemble/\n",
      "ensemble/config.pbtxt\n",
      "ensemble/1/\n",
      "ensemble/1/.tmp\n",
      "postprocessing/\n",
      "postprocessing/config.pbtxt\n",
      "postprocessing/1/\n",
      "postprocessing/1/model.py\n",
      "preprocessing/\n",
      "preprocessing/config.pbtxt\n",
      "preprocessing/1/\n",
      "preprocessing/1/model.py\n",
      "tensorrt_llm/\n",
      "tensorrt_llm/config.pbtxt\n",
      "tensorrt_llm/1/\n",
      "tensorrt_llm/1/.gitkeep\n",
      "tensorrt_llm/1/model.py\n",
      "\n",
      "sent 107,613 bytes  received 278 bytes  215,782.00 bytes/sec\n",
      "total size is 106,646  speedup is 0.99\n",
      "Building TRT-LLM engines...\n",
      "^C\n"
     ]
    }
   ],
   "source": [
    "!docker run --gpus all --ulimit memlock=-1 --shm-size=12g -v ${PWD}/workspace:/workspace -w /workspace nvcr.io/nvidia/tritonserver:24.08-trtllm-python-py3 /bin/bash generate_encdec_triton_model_repo.sh"
   ]
  },
  {
   "cell_type": "code",
   "execution_count": null,
   "id": "c711ae7e-6b2e-4e4f-9c3f-8f6414e0b886",
   "metadata": {},
   "outputs": [],
   "source": [
    "First, we must create a model repository so the Triton Inference Server can read the model and any associated metadata. \n",
    "\n",
    "The tensorrtllm_backend repository includes the setup of a required model repository under all_models/inflight_batcher_llm/ that we can replicate. \n",
    "\n",
    "In the directory are four subfolders holding artifacts for different parts of the model execution process. The preprocessing/ and postprocessing/ folders contain scripts for the Triton Inference Server python backend. These scripts are for tokenizing the text inputs and de-tokenizing the model outputs to convert between strings and the token IDs that the model operates on. \n",
    "\n",
    "The tensorrt_llm folder is where we’ll place the model engine we previously compiled. And finally, the ensemble folder defines a model ensemble that links the previous three components together and tells the Triton Inference Server how to flow data through them. "
   ]
  },
  {
   "cell_type": "markdown",
   "id": "80edadb5-ea1c-4eb8-88bd-0ab1130b5680",
   "metadata": {},
   "source": [
    "This is the directory structure of `triton_model_repo` that we created"
   ]
  },
  {
   "cell_type": "markdown",
   "id": "116648dd-8c7a-4200-abdc-02b99c2935e8",
   "metadata": {
    "tags": []
   },
   "source": [
    "```\n",
    "triton_model_repo/\n",
    "├── ensemble\n",
    "│   ├── 1\n",
    "│   └── config.pbtxt\n",
    "├── postprocessing\n",
    "│   ├── 1\n",
    "│   │   └── model.py\n",
    "│   └── config.pbtxt\n",
    "├── preprocessing\n",
    "│   ├── 1\n",
    "│   │   └── model.py\n",
    "│   └── config.pbtxt\n",
    "└── tensorrt_llm\n",
    "    ├── 1\n",
    "    │   ├── engines\n",
    "    │   │   └── t5-small\n",
    "    │   │       ├── decoder\n",
    "    │   │       └── encoder\n",
    "    │   ├── hf_models\n",
    "    │   │   └── t5-small\n",
    "    │   │       ├── config.json\n",
    "    │   │       ├── flax_model.msgpack\n",
    "    │   │       ├── generation_config.json\n",
    "    │   │       ├── model.safetensors\n",
    "    │   │       ├── onnx\n",
    "    │   │       ├── pytorch_model.bin\n",
    "    │   │       ├── README.md\n",
    "    │   │       ├── rust_model.ot\n",
    "    │   │       ├── spiece.model\n",
    "    │   │       ├── tf_model.h5\n",
    "    │   │       ├── tokenizer_config.json\n",
    "    │   │       └── tokenizer.json\n",
    "    │   └── model.py\n",
    "    └── config.pbtxt\n",
    "```"
   ]
  },
  {
   "cell_type": "markdown",
   "id": "c08f4151-10de-415b-8cd2-2b63c2ad9872",
   "metadata": {},
   "source": [
    "Next we push this image to ECR"
   ]
  },
  {
   "cell_type": "code",
   "execution_count": null,
   "id": "c739ef85-cb20-4d11-bc50-9acf9523c67b",
   "metadata": {
    "scrolled": true,
    "tags": []
   },
   "outputs": [],
   "source": [
    "!docker tag nvcr.io/nvidia/tritonserver:24.08-trtllm-python-py3 triton-trtllm\n",
    "!bash push_ecr.sh triton-trtllm"
   ]
  },
  {
   "cell_type": "markdown",
   "id": "52871fb7-3b42-4e56-994e-4cbea64d3b0f",
   "metadata": {},
   "source": [
    "Set the triton_image_uri from the output of above cell"
   ]
  },
  {
   "cell_type": "code",
   "execution_count": null,
   "id": "c757b359-6faf-43d9-9b49-918bae8322ef",
   "metadata": {
    "tags": []
   },
   "outputs": [],
   "source": [
    "triton_image_uri = \"<ACCOUNT_ID>.dkr.ecr.us-east-1.amazonaws.com/triton-trtllm:latest\""
   ]
  },
  {
   "cell_type": "markdown",
   "id": "40ba30a7-f593-44a4-a71e-6bebccecc21f",
   "metadata": {},
   "source": [
    "## Packaging model files and uploading to s3"
   ]
  },
  {
   "cell_type": "code",
   "execution_count": null,
   "id": "5f7e254b-aa48-4bfc-9613-63363d8c5ce9",
   "metadata": {
    "scrolled": true,
    "tags": []
   },
   "outputs": [],
   "source": [
    "!tar --exclude='.ipynb_checkpoints' --exclude='*.bin' \\\n",
    "--exclude='*.h5' --exclude='*.safetensors' --exclude=\"onnx\" \\\n",
    "--exclude='.git*' --exclude='.gitignore' --exclude='.gitattributes' --exclude='.gitmodules' \\\n",
    "-czvf model.tar.gz -C workspace/triton_model_repo/ ."
   ]
  },
  {
   "cell_type": "code",
   "execution_count": null,
   "id": "a016845b-a5c9-4eb9-921c-37a41eea3a4c",
   "metadata": {
    "tags": []
   },
   "outputs": [],
   "source": [
    "model_uri = sagemaker_session.upload_data(path=\"model.tar.gz\", key_prefix=\"triton-trtllm-model\")"
   ]
  },
  {
   "cell_type": "code",
   "execution_count": null,
   "id": "83ae988d-6b82-49b3-89a7-7edb8adf00c7",
   "metadata": {
    "tags": []
   },
   "outputs": [],
   "source": [
    "model_uri"
   ]
  },
  {
   "cell_type": "markdown",
   "id": "c59e78ea-2948-4f28-af83-1ac8f191dd55",
   "metadata": {},
   "source": [
    "## Create SageMaker Endpoint"
   ]
  },
  {
   "cell_type": "markdown",
   "id": "2b44e045-f374-4993-b4db-5510aa5ba179",
   "metadata": {},
   "source": [
    "We start off by creating a sagemaker model from the model files we uploaded to s3 in the previous step.\n",
    "\n",
    "In this step we also provide an additional Environment Variable i.e. SAGEMAKER_TRITON_DEFAULT_MODEL_NAME which specifies the name of the model to be loaded by Triton. In case of ensemble models, this key has to be specified for Triton to startup in SageMaker.\n",
    "\n",
    "Additionally, customers can set SAGEMAKER_TRITON_BUFFER_MANAGER_THREAD_COUNT and SAGEMAKER_TRITON_THREAD_COUNT for optimizing the thread counts."
   ]
  },
  {
   "cell_type": "code",
   "execution_count": null,
   "id": "d6dd82f1-e5bd-46f4-8817-75d5642895e4",
   "metadata": {
    "tags": []
   },
   "outputs": [],
   "source": [
    "sm_model_name = \"triton-trtllm-model-\" + time.strftime(\"%Y-%m-%d-%H-%M-%S\", time.gmtime())\n",
    "\n",
    "container = {\n",
    "    \"Image\": triton_image_uri,\n",
    "    \"ModelDataUrl\": model_uri,\n",
    "    \"Environment\": {\"SAGEMAKER_TRITON_DEFAULT_MODEL_NAME\": \"ensemble\"},\n",
    "}\n",
    "\n",
    "create_model_response = sm.create_model(\n",
    "    ModelName=sm_model_name, ExecutionRoleArn=role, PrimaryContainer=container\n",
    ")\n",
    "\n",
    "print(\"Model Arn: \" + create_model_response[\"ModelArn\"])"
   ]
  },
  {
   "cell_type": "markdown",
   "id": "044e00f1-2ff6-482b-b91a-dbfb0d36d4ce",
   "metadata": {},
   "source": [
    "Using the model above, we create an endpoint configuration where we can specify the type and number of instances we want in the endpoint."
   ]
  },
  {
   "cell_type": "code",
   "execution_count": null,
   "id": "761d0705-09da-4765-a08f-cfe23b954e30",
   "metadata": {
    "tags": []
   },
   "outputs": [],
   "source": [
    "endpoint_config_name = \"triton-trtllm-model-\" + time.strftime(\"%Y-%m-%d-%H-%M-%S\", time.gmtime())\n",
    "\n",
    "create_endpoint_config_response = sm.create_endpoint_config(\n",
    "    EndpointConfigName=endpoint_config_name,\n",
    "    ProductionVariants=[\n",
    "        {\n",
    "            \"InstanceType\": \"ml.g5.xlarge\",\n",
    "            \"InitialVariantWeight\": 1,\n",
    "            \"InitialInstanceCount\": 1,\n",
    "            \"ModelName\": sm_model_name,\n",
    "            \"VariantName\": \"AllTraffic\",\n",
    "        }\n",
    "    ],\n",
    ")\n",
    "\n",
    "print(\"Endpoint Config Arn: \" + create_endpoint_config_response[\"EndpointConfigArn\"])"
   ]
  },
  {
   "cell_type": "markdown",
   "id": "1039338e-5a5f-4dc4-9fec-c5665fdd09e6",
   "metadata": {},
   "source": [
    "Using the above endpoint configuration we create a new sagemaker endpoint and wait for the deployment to finish. The status will change to InService once the deployment is successful."
   ]
  },
  {
   "cell_type": "code",
   "execution_count": null,
   "id": "f3d9f543-8ca2-451b-9b63-dcd5ceea6120",
   "metadata": {
    "tags": []
   },
   "outputs": [],
   "source": [
    "endpoint_name = \"triton-trtllm-model-\" + time.strftime(\"%Y-%m-%d-%H-%M-%S\", time.gmtime())\n",
    "\n",
    "create_endpoint_response = sm.create_endpoint(\n",
    "    EndpointName=endpoint_name, EndpointConfigName=endpoint_config_name\n",
    ")\n",
    "\n",
    "print(\"Endpoint Arn: \" + create_endpoint_response[\"EndpointArn\"])"
   ]
  },
  {
   "cell_type": "code",
   "execution_count": null,
   "id": "f3acf053-cf98-4fd5-a9b0-eea10eca3d0c",
   "metadata": {
    "tags": []
   },
   "outputs": [],
   "source": [
    "resp = sm.describe_endpoint(EndpointName=endpoint_name)\n",
    "status = resp[\"EndpointStatus\"]\n",
    "print(\"Status: \" + status)\n",
    "\n",
    "while status == \"Creating\":\n",
    "    time.sleep(60)\n",
    "    resp = sm.describe_endpoint(EndpointName=endpoint_name)\n",
    "    status = resp[\"EndpointStatus\"]\n",
    "    print(\"Status: \" + status)\n",
    "\n",
    "print(\"Arn: \" + resp[\"EndpointArn\"])\n",
    "print(\"Status: \" + status)"
   ]
  },
  {
   "cell_type": "markdown",
   "id": "4c02ec7c-41f7-477c-8366-8acaee986703",
   "metadata": {},
   "source": [
    "## Run inference\n",
    "Once we have the endpoint running we can use a sample text to do an inference using json as the payload format. "
   ]
  },
  {
   "cell_type": "code",
   "execution_count": null,
   "id": "560316ac-0685-4221-b6cd-2b12ddf7ab52",
   "metadata": {
    "tags": []
   },
   "outputs": [],
   "source": [
    "from tritonclient.utils import np_to_triton_dtype\n",
    "import numpy as np"
   ]
  },
  {
   "cell_type": "code",
   "execution_count": null,
   "id": "c7aba0ed-09a9-408d-be32-205089319590",
   "metadata": {
    "tags": []
   },
   "outputs": [],
   "source": [
    "payload = {}\n",
    "text_input = \"translate English to German: This is Good.\"\n",
    "beam_width=2\n",
    "max_tokens=30\n",
    "payload[\"inputs\"] = [{\"name\" : \"text_input\", \"data\" : [text_input], \"datatype\" : \"BYTES\", \"shape\" : [1,1]},\n",
    "    {\"name\" : \"beam_width\", \"data\" : [beam_width], \"datatype\" : np_to_triton_dtype(np.int32), \"shape\" : [1,1]}, \n",
    "    {\"name\" : \"max_tokens\", \"data\" : [max_tokens], \"datatype\" : np_to_triton_dtype(np.int32), \"shape\" : [1,1]},\n",
    "    ]\n",
    "response = client.invoke_endpoint(\n",
    "    EndpointName=endpoint_name, ContentType=\"application/json\", Body=json.dumps(payload)\n",
    ")\n",
    "response_str = response[\"Body\"].read().decode()\n",
    "json_object = json.loads(response_str)\n",
    "json_object['outputs']"
   ]
  },
  {
   "cell_type": "code",
   "execution_count": null,
   "id": "f43c4d7a-204f-485f-88a0-235acdda572d",
   "metadata": {
    "tags": []
   },
   "outputs": [],
   "source": [
    "payload = {}\n",
    "text_input = \"translate English to German: This is good.\"\n",
    "beam_width=2\n",
    "max_tokens=50\n",
    "payload[\"inputs\"] = [{\"name\" : \"text_input\", \"data\" : [text_input], \"datatype\" : \"BYTES\", \"shape\" : [1,1]},\n",
    "    {\"name\" : \"beam_width\", \"data\" : [beam_width], \"datatype\" : np_to_triton_dtype(np.int32), \"shape\" : [1,1]}, \n",
    "    {\"name\" : \"max_tokens\", \"data\" : [max_tokens], \"datatype\" : np_to_triton_dtype(np.int32), \"shape\" : [1,1]},\n",
    "    {\"name\" : \"return_log_probs\", \"data\" : [True], \"datatype\" : \"BOOL\", \"shape\" : [1,1]},\n",
    "    ]\n",
    "response = client.invoke_endpoint(\n",
    "    EndpointName=endpoint_name, ContentType=\"application/json\", Body=json.dumps(payload)\n",
    ")\n",
    "response_str = response[\"Body\"].read().decode()\n",
    "json_object = json.loads(response_str)\n",
    "json_object['outputs']"
   ]
  },
  {
   "cell_type": "code",
   "execution_count": null,
   "id": "8571e0e8-d645-4662-9d66-5bf6cda1213b",
   "metadata": {},
   "outputs": [],
   "source": [
    "def invoke_endpoint_test(text_input, max_tokens,beam_width,temperature,repetition_penalty,min_length,bad_words,stop_words, endpoint_name): \n",
    "    payload = {}\n",
    "    payload[\"inputs\"] = [{\"name\" : \"text_input\", \"data\" : [text_input], \"datatype\" : \"BYTES\", \"shape\" : [1,1]},\n",
    "        {\"name\" : \"beam_width\", \"data\" : [beam_width], \"datatype\" : np_to_triton_dtype(np.int32), \"shape\" : [1,1]}, \n",
    "        {\"name\" : \"max_tokens\", \"data\" : [max_tokens], \"datatype\" : np_to_triton_dtype(np.int32), \"shape\" : [1,1]},\n",
    "        {\"name\" : \"temperature\", \"data\" : [temperature], \"datatype\" : np_to_triton_dtype(np.float32), \"shape\" : [1,1]},\n",
    "        {\"name\" : \"repetition_penalty\", \"data\" : [repetition_penalty], \"datatype\" : np_to_triton_dtype(np.float32), \"shape\" : [1,1]},\n",
    "        {\"name\" : \"min_length\", \"data\" : [min_length], \"datatype\" : np_to_triton_dtype(np.float32), \"shape\" : [1,1]},\n",
    "        {\"name\" : \"bad_words\", \"data\" : [bad_words], \"datatype\" : \"BYTES\", \"shape\" : [1,1]},\n",
    "        {\"name\" : \"stop_words\", \"data\" : [stop_words], \"datatype\" : \"BYTES\", \"shape\" : [1,1]},\n",
    "        ]\n",
    "    response = smr_client.invoke_endpoint(\n",
    "        EndpointName=endpoint_name, ContentType=\"application/json\", Body=json.dumps(payload)\n",
    "    )\n",
    "    response_str = response[\"Body\"].read().decode()\n",
    "    json_object = json.loads(response_str)\n",
    "    return json_object['outputs']"
   ]
  },
  {
   "cell_type": "markdown",
   "id": "db148ac1-5d5b-4d3b-a239-3d084c650392",
   "metadata": {},
   "source": [
    "## Terminate endpoint and clean up artifacts"
   ]
  },
  {
   "cell_type": "code",
   "execution_count": null,
   "id": "2519732f-fcd6-494f-8300-455282e011dc",
   "metadata": {
    "tags": []
   },
   "outputs": [],
   "source": [
    "sm.delete_model(ModelName=sm_model_name)\n",
    "sm.delete_endpoint_config(EndpointConfigName=endpoint_config_name)\n",
    "sm.delete_endpoint(EndpointName=endpoint_name)"
   ]
  },
  {
   "cell_type": "code",
   "execution_count": null,
   "id": "159f0343-5dae-480c-adb1-6b5e82814c45",
   "metadata": {},
   "outputs": [],
   "source": []
  }
 ],
 "metadata": {
  "kernelspec": {
   "display_name": "conda_python3",
   "language": "python",
   "name": "conda_python3"
  },
  "language_info": {
   "codemirror_mode": {
    "name": "ipython",
    "version": 3
   },
   "file_extension": ".py",
   "mimetype": "text/x-python",
   "name": "python",
   "nbconvert_exporter": "python",
   "pygments_lexer": "ipython3",
   "version": "3.10.14"
  }
 },
 "nbformat": 4,
 "nbformat_minor": 5
}
